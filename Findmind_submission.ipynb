{
 "cells": [
  {
   "cell_type": "code",
   "execution_count": 5,
   "id": "human-dodge",
   "metadata": {},
   "outputs": [],
   "source": [
    "import cv2\n",
    "import glob\n",
    "import re\n",
    "from PIL import Image\n",
    "from pytesseract import pytesseract\n",
    "from matplotlib import pyplot as plt\n",
    "\n",
    "\n"
   ]
  },
  {
   "cell_type": "code",
   "execution_count": 6,
   "id": "according-puzzle",
   "metadata": {},
   "outputs": [],
   "source": [
    "def get_grayscale(image):\n",
    "    return cv2.cvtColor(image, cv2.COLOR_BGR2GRAY)\n",
    "\n",
    "# noise removal\n",
    "def remove_noise(image):\n",
    "    return cv2.medianBlur(image,5)\n",
    " \n",
    "#thresholding\n",
    "def thresholding(image):\n",
    "    return cv2.threshold(image, 0, 255, cv2.THRESH_BINARY + cv2.THRESH_OTSU)[1]\n"
   ]
  },
  {
   "cell_type": "code",
   "execution_count": 77,
   "id": "reasonable-smile",
   "metadata": {},
   "outputs": [
    {
     "name": "stdout",
     "output_type": "stream",
     "text": [
      "PANCARD: 1\n",
      "DOB: 18/03/1996\n",
      "NUMBER: BGYPJO129A\n",
      "PANCARD: 2\n",
      "DOB: 30/01/1997\n",
      "NUMBER: ELWPM8089J\n",
      "PANCARD: 3\n",
      "DOB: 13/09/1996\n",
      "NUMBER: BXAPC1000L\n"
     ]
    }
   ],
   "source": [
    "path = \"Findmind_images/*.*\"\n",
    "count = 1\n",
    "for file in glob.glob(path):\n",
    "    image_read = cv2.imread(file)\n",
    "    osd = pytesseract.image_to_osd(image_read)\n",
    "    angle = re.search('(?<=Rotate: )\\d+', osd).group(0)\n",
    "   \n",
    "    if int(angle) == 90:\n",
    "        (h, w) = image_read.shape[:2]\n",
    "        # calculate the center of the image\n",
    "        center = (w / 2, h / 2)\n",
    "\n",
    "        scale = 1.0\n",
    "\n",
    "        # Perform the counter clockwise rotation holding at the center\n",
    "        # 90 degrees\n",
    "        M = cv2.getRotationMatrix2D(center, -int(angle), scale)\n",
    "        rotated = cv2.warpAffine(image_read, M, (2*w, 2*h))\n",
    "        img_resize = cv2.resize(rotated, None, fx = 2, fy = 2, interpolation = cv2.INTER_LINEAR)\n",
    "        gray = get_grayscale(img_resize)\n",
    "        image = gray\n",
    "        image1 = remove_noise(image)\n",
    "        text = pytesseract.image_to_string(image1)\n",
    "        \n",
    "        match = re.search(r'(\\d+/\\d+/\\d+)',text)\n",
    "        print(\"PANCARD:\",count)\n",
    "        print(\"DOB:\",match.group(1))    \n",
    "        match1 =  re.search(r'([A-Z].*\\d+.[A-Z])', text)\n",
    "        X = match1.group(1)\n",
    "        print(\"NUMBER:\",re.sub('[^A-Z 0-9]','',X))\n",
    "        count = count+1\n",
    "        \n",
    "    elif int(angle) ==0:\n",
    "        img_resize = cv2.resize(image_read, None, fx = 2, fy = 2, interpolation = cv2.INTER_LINEAR)\n",
    "        gray = get_grayscale(img_resize)\n",
    "        image = gray\n",
    "        image1 = remove_noise(image)\n",
    "        text = pytesseract.image_to_string(image1)\n",
    "        match = re.search(r'(\\d+/\\d+/\\d+)',text)\n",
    "        print(\"PANCARD:\",count)\n",
    "        print(\"DOB:\",match.group(1))\n",
    "        match1 =  re.search(r'([A-Z]*\\d+[A-Z])', text)\n",
    "        Y = match1.group(1)\n",
    "        print(\"NUMBER:\",re.sub('[^A-Z 0-9]','',Y))\n",
    "        count = count+1\n",
    "        \n",
    "        "
   ]
  },
  {
   "cell_type": "code",
   "execution_count": null,
   "id": "athletic-trail",
   "metadata": {},
   "outputs": [],
   "source": []
  }
 ],
 "metadata": {
  "kernelspec": {
   "display_name": "Python 3",
   "language": "python",
   "name": "python3"
  },
  "language_info": {
   "codemirror_mode": {
    "name": "ipython",
    "version": 3
   },
   "file_extension": ".py",
   "mimetype": "text/x-python",
   "name": "python",
   "nbconvert_exporter": "python",
   "pygments_lexer": "ipython3",
   "version": "3.8.5"
  }
 },
 "nbformat": 4,
 "nbformat_minor": 5
}
